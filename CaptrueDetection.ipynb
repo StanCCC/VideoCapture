{
 "cells": [
  {
   "cell_type": "code",
   "execution_count": 1,
   "metadata": {},
   "outputs": [
    {
     "name": "stdout",
     "output_type": "stream",
     "text": [
      "Fusing layers... \n",
      " Convert model to Traced-model... \n"
     ]
    },
    {
     "name": "stderr",
     "output_type": "stream",
     "text": [
      "d:\\ProgramData\\anaconda3\\envs\\yolo7\\lib\\site-packages\\torch\\nn\\modules\\module.py:831: UserWarning: The .grad attribute of a Tensor that is not a leaf Tensor is being accessed. Its .grad attribute won't be populated during autograd.backward(). If you indeed want the .grad field to be populated for a non-leaf Tensor, use .retain_grad() on the non-leaf Tensor. If you access the non-leaf Tensor by mistake, make sure you access the leaf Tensor instead. See github.com/pytorch/pytorch/pull/30531 for more informations. (Triggered internally at C:\\cb\\pytorch_1000000000000\\work\\build\\aten\\src\\ATen/core/TensorBody.h:491.)\n",
      "  if param.grad is not None:\n"
     ]
    },
    {
     "name": "stdout",
     "output_type": "stream",
     "text": [
      " traced_script_module saved! \n",
      " model is traced! \n",
      "\n"
     ]
    }
   ],
   "source": [
    "import configparser\n",
    "def read_config():\n",
    "    config = configparser.ConfigParser()\n",
    "    config.read('./configurations.ini')\n",
    "    return config\n",
    "\n",
    "from detection_helpers import Detector\n",
    "#from tracking_helpers import *\n",
    "#from bridge_wrapper import *\n",
    "from PIL import Image\n",
    "\n",
    "config=read_config()\n",
    "classes=bool(config['Detection']['classes'])\n",
    "detector = Detector(classes=classes) # it'll detect ONLY [person,horses,sports ball]. class = None means detect all classes. List info at: \"data/coco.yaml\"\n",
    "detector.load_model('./weights/yolov7x.pt',) # pass the path to the trained weight file"
   ]
  },
  {
   "cell_type": "code",
   "execution_count": 2,
   "metadata": {},
   "outputs": [
    {
     "name": "stdout",
     "output_type": "stream",
     "text": [
      " \n"
     ]
    },
    {
     "name": "stderr",
     "output_type": "stream",
     "text": [
      "d:\\ProgramData\\anaconda3\\envs\\yolo7\\lib\\site-packages\\torch\\functional.py:504: UserWarning: torch.meshgrid: in an upcoming release, it will be required to pass the indexing argument. (Triggered internally at C:\\cb\\pytorch_1000000000000\\work\\aten\\src\\ATen\\native\\TensorShape.cpp:3484.)\n",
      "  return _VF.meshgrid(tensors, **kwargs)  # type: ignore[attr-defined]\n"
     ]
    },
    {
     "name": "stdout",
     "output_type": "stream",
     "text": [
      " ./DetectionResult\\convert--CTV-000-TST19-FTB1-FEQ-FOC-005_CVR_SEQNBR1051_11-00-00_11-00-00_0  處理進度 ： 6/5247"
     ]
    },
    {
     "ename": "KeyboardInterrupt",
     "evalue": "",
     "output_type": "error",
     "traceback": [
      "\u001b[1;31m---------------------------------------------------------------------------\u001b[0m",
      "\u001b[1;31mKeyboardInterrupt\u001b[0m                         Traceback (most recent call last)",
      "Cell \u001b[1;32mIn[2], line 42\u001b[0m\n\u001b[0;32m     39\u001b[0m \u001b[39mprint\u001b[39m(\u001b[39m'\u001b[39m\u001b[39m \u001b[39m\u001b[39m'\u001b[39m)\n\u001b[0;32m     40\u001b[0m \u001b[39mfor\u001b[39;00m file \u001b[39min\u001b[39;00m fileslist:\n\u001b[0;32m     41\u001b[0m     \u001b[39m#print(files+'/'+file)\u001b[39;00m\n\u001b[1;32m---> 42\u001b[0m     result \u001b[39m=\u001b[39m detector\u001b[39m.\u001b[39;49mdetect(files\u001b[39m+\u001b[39;49m\u001b[39m'\u001b[39;49m\u001b[39m/\u001b[39;49m\u001b[39m'\u001b[39;49m\u001b[39m+\u001b[39;49mfile, plot_bb \u001b[39m=\u001b[39;49m \u001b[39mTrue\u001b[39;49;00m)\n\u001b[0;32m     43\u001b[0m     \u001b[39mif\u001b[39;00m \u001b[39mlen\u001b[39m(result\u001b[39m.\u001b[39mshape) \u001b[39m==\u001b[39m \u001b[39m3\u001b[39m:\u001b[39m# If it is image, convert it to proper image. detector will give \"BGR\" image\u001b[39;00m\n\u001b[0;32m     44\u001b[0m         result \u001b[39m=\u001b[39m Image\u001b[39m.\u001b[39mfromarray(cv2\u001b[39m.\u001b[39mcvtColor(result,cv2\u001b[39m.\u001b[39mCOLOR_BGR2RGB)) \n",
      "File \u001b[1;32md:\\ProgramData\\anaconda3\\envs\\yolo7\\lib\\site-packages\\torch\\utils\\_contextlib.py:115\u001b[0m, in \u001b[0;36mcontext_decorator.<locals>.decorate_context\u001b[1;34m(*args, **kwargs)\u001b[0m\n\u001b[0;32m    112\u001b[0m \u001b[39m@functools\u001b[39m\u001b[39m.\u001b[39mwraps(func)\n\u001b[0;32m    113\u001b[0m \u001b[39mdef\u001b[39;00m \u001b[39mdecorate_context\u001b[39m(\u001b[39m*\u001b[39margs, \u001b[39m*\u001b[39m\u001b[39m*\u001b[39mkwargs):\n\u001b[0;32m    114\u001b[0m     \u001b[39mwith\u001b[39;00m ctx_factory():\n\u001b[1;32m--> 115\u001b[0m         \u001b[39mreturn\u001b[39;00m func(\u001b[39m*\u001b[39;49margs, \u001b[39m*\u001b[39;49m\u001b[39m*\u001b[39;49mkwargs)\n",
      "File \u001b[1;32mc:\\Users\\ST\\Desktop\\cap and det\\Test\\detection_helpers.py:83\u001b[0m, in \u001b[0;36mDetector.detect\u001b[1;34m(self, source, plot_bb)\u001b[0m\n\u001b[0;32m     80\u001b[0m     img \u001b[39m=\u001b[39m img\u001b[39m.\u001b[39munsqueeze(\u001b[39m0\u001b[39m)\n\u001b[0;32m     82\u001b[0m \u001b[39m# Inference\u001b[39;00m\n\u001b[1;32m---> 83\u001b[0m pred \u001b[39m=\u001b[39m \u001b[39mself\u001b[39;49m\u001b[39m.\u001b[39;49mmodel(img, augment\u001b[39m=\u001b[39;49m\u001b[39mFalse\u001b[39;49;00m)[\u001b[39m0\u001b[39m] \u001b[39m# We don not need any augment during inference time\u001b[39;00m\n\u001b[0;32m     85\u001b[0m \u001b[39m# Apply NMS\u001b[39;00m\n\u001b[0;32m     86\u001b[0m pred \u001b[39m=\u001b[39m non_max_suppression(pred, \u001b[39mself\u001b[39m\u001b[39m.\u001b[39mconf_thres, \u001b[39mself\u001b[39m\u001b[39m.\u001b[39miou_thres, classes\u001b[39m=\u001b[39m\u001b[39mself\u001b[39m\u001b[39m.\u001b[39mclasses, agnostic\u001b[39m=\u001b[39m\u001b[39mself\u001b[39m\u001b[39m.\u001b[39magnostic_nms)\n",
      "File \u001b[1;32md:\\ProgramData\\anaconda3\\envs\\yolo7\\lib\\site-packages\\torch\\nn\\modules\\module.py:1501\u001b[0m, in \u001b[0;36mModule._call_impl\u001b[1;34m(self, *args, **kwargs)\u001b[0m\n\u001b[0;32m   1496\u001b[0m \u001b[39m# If we don't have any hooks, we want to skip the rest of the logic in\u001b[39;00m\n\u001b[0;32m   1497\u001b[0m \u001b[39m# this function, and just call forward.\u001b[39;00m\n\u001b[0;32m   1498\u001b[0m \u001b[39mif\u001b[39;00m \u001b[39mnot\u001b[39;00m (\u001b[39mself\u001b[39m\u001b[39m.\u001b[39m_backward_hooks \u001b[39mor\u001b[39;00m \u001b[39mself\u001b[39m\u001b[39m.\u001b[39m_backward_pre_hooks \u001b[39mor\u001b[39;00m \u001b[39mself\u001b[39m\u001b[39m.\u001b[39m_forward_hooks \u001b[39mor\u001b[39;00m \u001b[39mself\u001b[39m\u001b[39m.\u001b[39m_forward_pre_hooks\n\u001b[0;32m   1499\u001b[0m         \u001b[39mor\u001b[39;00m _global_backward_pre_hooks \u001b[39mor\u001b[39;00m _global_backward_hooks\n\u001b[0;32m   1500\u001b[0m         \u001b[39mor\u001b[39;00m _global_forward_hooks \u001b[39mor\u001b[39;00m _global_forward_pre_hooks):\n\u001b[1;32m-> 1501\u001b[0m     \u001b[39mreturn\u001b[39;00m forward_call(\u001b[39m*\u001b[39;49margs, \u001b[39m*\u001b[39;49m\u001b[39m*\u001b[39;49mkwargs)\n\u001b[0;32m   1502\u001b[0m \u001b[39m# Do not call functions when jit is used\u001b[39;00m\n\u001b[0;32m   1503\u001b[0m full_backward_hooks, non_full_backward_hooks \u001b[39m=\u001b[39m [], []\n",
      "File \u001b[1;32mc:\\Users\\ST\\Desktop\\cap and det\\Test\\utils\\torch_utils.py:381\u001b[0m, in \u001b[0;36mTracedModel.forward\u001b[1;34m(self, x, augment, profile)\u001b[0m\n\u001b[0;32m    380\u001b[0m \u001b[39mdef\u001b[39;00m \u001b[39mforward\u001b[39m(\u001b[39mself\u001b[39m, x, augment\u001b[39m=\u001b[39m\u001b[39mFalse\u001b[39;00m, profile\u001b[39m=\u001b[39m\u001b[39mFalse\u001b[39;00m):\n\u001b[1;32m--> 381\u001b[0m     out \u001b[39m=\u001b[39m \u001b[39mself\u001b[39;49m\u001b[39m.\u001b[39;49mmodel(x)\n\u001b[0;32m    382\u001b[0m     out \u001b[39m=\u001b[39m \u001b[39mself\u001b[39m\u001b[39m.\u001b[39mdetect_layer(out)\n\u001b[0;32m    383\u001b[0m     \u001b[39mreturn\u001b[39;00m out\n",
      "File \u001b[1;32md:\\ProgramData\\anaconda3\\envs\\yolo7\\lib\\site-packages\\torch\\nn\\modules\\module.py:1501\u001b[0m, in \u001b[0;36mModule._call_impl\u001b[1;34m(self, *args, **kwargs)\u001b[0m\n\u001b[0;32m   1496\u001b[0m \u001b[39m# If we don't have any hooks, we want to skip the rest of the logic in\u001b[39;00m\n\u001b[0;32m   1497\u001b[0m \u001b[39m# this function, and just call forward.\u001b[39;00m\n\u001b[0;32m   1498\u001b[0m \u001b[39mif\u001b[39;00m \u001b[39mnot\u001b[39;00m (\u001b[39mself\u001b[39m\u001b[39m.\u001b[39m_backward_hooks \u001b[39mor\u001b[39;00m \u001b[39mself\u001b[39m\u001b[39m.\u001b[39m_backward_pre_hooks \u001b[39mor\u001b[39;00m \u001b[39mself\u001b[39m\u001b[39m.\u001b[39m_forward_hooks \u001b[39mor\u001b[39;00m \u001b[39mself\u001b[39m\u001b[39m.\u001b[39m_forward_pre_hooks\n\u001b[0;32m   1499\u001b[0m         \u001b[39mor\u001b[39;00m _global_backward_pre_hooks \u001b[39mor\u001b[39;00m _global_backward_hooks\n\u001b[0;32m   1500\u001b[0m         \u001b[39mor\u001b[39;00m _global_forward_hooks \u001b[39mor\u001b[39;00m _global_forward_pre_hooks):\n\u001b[1;32m-> 1501\u001b[0m     \u001b[39mreturn\u001b[39;00m forward_call(\u001b[39m*\u001b[39;49margs, \u001b[39m*\u001b[39;49m\u001b[39m*\u001b[39;49mkwargs)\n\u001b[0;32m   1502\u001b[0m \u001b[39m# Do not call functions when jit is used\u001b[39;00m\n\u001b[0;32m   1503\u001b[0m full_backward_hooks, non_full_backward_hooks \u001b[39m=\u001b[39m [], []\n",
      "\u001b[1;31mKeyboardInterrupt\u001b[0m: "
     ]
    }
   ],
   "source": [
    "import datetime\n",
    "import os \n",
    "import cv2\n",
    "from IPython.core.interactiveshell import InteractiveShell\n",
    "InteractiveShell.ast_node_interactivity = \"all\" \n",
    "\n",
    "def create_file(path):\n",
    "    if not os.path.exists(path):\n",
    "        os.makedirs(path)\n",
    "    #     print(f\"{path} is created!\")\n",
    "    # else:\n",
    "    #     print(f\"{path} is existed\")\n",
    "\n",
    "def load_file_list(loadpath):\n",
    "    filelist=[]\n",
    "    for rootdir, _, files in os.walk(loadpath,topdown=False):\n",
    "        if not loadpath==rootdir :\n",
    "            files.sort(key=lambda x:int(x[:-4]))\n",
    "            for subdir in rootdir.split(loadpath):\n",
    "                if not subdir  == '':\n",
    "                    filelist.append(loadpath+subdir)\n",
    "    return filelist\n",
    "\n",
    "#detectionloadpath=r'./capture_result/'\n",
    "#detectionsavepath=r'./detection_result/'\n",
    "config=read_config()\n",
    "detectionloadpath=config['Detection']['detectionloadpath']\n",
    "detectionsavepath=config['Detection']['detectionsavepath']\n",
    "\n",
    "load_file_list(detectionloadpath)\n",
    "create_file(detectionsavepath)\n",
    "\n",
    "start=datetime.datetime.now()\n",
    "for files in load_file_list(detectionloadpath):\n",
    "    savetopath=files.replace(detectionloadpath,detectionsavepath)\n",
    "    create_file(savetopath)\n",
    "    fileslist=list(os.listdir(files))\n",
    "    j=0\n",
    "    print(' ')\n",
    "    for file in fileslist:\n",
    "        #print(files+'/'+file)\n",
    "        result = detector.detect(files+'/'+file, plot_bb = True)\n",
    "        if len(result.shape) == 3:# If it is image, convert it to proper image. detector will give \"BGR\" image\n",
    "            result = Image.fromarray(cv2.cvtColor(result,cv2.COLOR_BGR2RGB)) \n",
    "            result.save(savetopath+'/'+file)\n",
    "            j=j+1\n",
    "            print(f\"\\r {savetopath}  處理進度 ： {j}/{len(fileslist)}\",end=\"\")\n",
    "\n",
    "end=datetime.datetime.now()\n",
    "print(f'總耗時: {(end-start)} ' )"
   ]
  },
  {
   "cell_type": "code",
   "execution_count": null,
   "metadata": {},
   "outputs": [],
   "source": []
  }
 ],
 "metadata": {
  "colab": {
   "collapsed_sections": [],
   "name": "DeepSORT",
   "provenance": []
  },
  "kernelspec": {
   "display_name": "Python 3 (ipykernel)",
   "language": "python",
   "name": "python3"
  },
  "language_info": {
   "codemirror_mode": {
    "name": "ipython",
    "version": 3
   },
   "file_extension": ".py",
   "mimetype": "text/x-python",
   "name": "python",
   "nbconvert_exporter": "python",
   "pygments_lexer": "ipython3",
   "version": "3.8.16"
  },
  "vscode": {
   "interpreter": {
    "hash": "cb8ede6e48f2442e28c0595893d2b9fa1cb763a73b1e5669a97c4ab5fc34a251"
   }
  }
 },
 "nbformat": 4,
 "nbformat_minor": 4
}
